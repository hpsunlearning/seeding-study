{
 "cells": [
  {
   "cell_type": "code",
   "execution_count": 2,
   "metadata": {},
   "outputs": [],
   "source": [
    "import io\n",
    "import os\n",
    "import glob\n",
    "import zipfile\n",
    "import subprocess\n",
    "import numpy as np\n",
    "import pandas as pd\n",
    "import qiime2 as q2\n",
    "from skbio import TreeNode \n",
    "from biom import load_table, Table\n",
    "from biom.util import biom_open\n",
    "from qiime2.plugins.feature_table.methods import merge\n",
    "from qiime2.plugins.fragment_insertion.methods import sepp\n"
   ]
  },
  {
   "cell_type": "code",
   "execution_count": 231,
   "metadata": {},
   "outputs": [
    {
     "data": {
      "text/html": [
       "<div>\n",
       "<style scoped>\n",
       "    .dataframe tbody tr th:only-of-type {\n",
       "        vertical-align: middle;\n",
       "    }\n",
       "\n",
       "    .dataframe tbody tr th {\n",
       "        vertical-align: top;\n",
       "    }\n",
       "\n",
       "    .dataframe thead th {\n",
       "        text-align: right;\n",
       "    }\n",
       "</style>\n",
       "<table border=\"1\" class=\"dataframe\">\n",
       "  <thead>\n",
       "    <tr style=\"text-align: right;\">\n",
       "      <th></th>\n",
       "      <th>qiita_study</th>\n",
       "      <th>prep_name</th>\n",
       "      <th>run_name</th>\n",
       "      <th>100nt_deblur</th>\n",
       "      <th>sequencing_id</th>\n",
       "    </tr>\n",
       "  </thead>\n",
       "  <tbody>\n",
       "    <tr>\n",
       "      <th>0</th>\n",
       "      <td>10894</td>\n",
       "      <td>2524</td>\n",
       "      <td>Run2 Lane 1</td>\n",
       "      <td>60614</td>\n",
       "      <td>lane_1_170216_D00611_0439_BCAJ1MANXX_Knight_2</td>\n",
       "    </tr>\n",
       "    <tr>\n",
       "      <th>1</th>\n",
       "      <td>10894</td>\n",
       "      <td>2525</td>\n",
       "      <td>Run2 Lane 2</td>\n",
       "      <td>57513</td>\n",
       "      <td>lane_2_170216_D00611_0439_BCAJ1MANXX_Knight_2</td>\n",
       "    </tr>\n",
       "    <tr>\n",
       "      <th>2</th>\n",
       "      <td>10894</td>\n",
       "      <td>2527</td>\n",
       "      <td>Run2 Lane 3</td>\n",
       "      <td>61023</td>\n",
       "      <td>lane_3_170216_D00611_0439_BCAJ1MANXX_Knight_2</td>\n",
       "    </tr>\n",
       "  </tbody>\n",
       "</table>\n",
       "</div>"
      ],
      "text/plain": [
       "   qiita_study  prep_name     run_name  100nt_deblur  \\\n",
       "0        10894       2524  Run2 Lane 1         60614   \n",
       "1        10894       2525  Run2 Lane 2         57513   \n",
       "2        10894       2527  Run2 Lane 3         61023   \n",
       "\n",
       "                                   sequencing_id  \n",
       "0  lane_1_170216_D00611_0439_BCAJ1MANXX_Knight_2  \n",
       "1  lane_2_170216_D00611_0439_BCAJ1MANXX_Knight_2  \n",
       "2  lane_3_170216_D00611_0439_BCAJ1MANXX_Knight_2  "
      ]
     },
     "execution_count": 231,
     "metadata": {},
     "output_type": "execute_result"
    }
   ],
   "source": [
    "# get map of qiita preps\n",
    "qiita_mf = pd.read_csv('../data/qiita-tables-processing/qiita-mapping.csv').dropna(1)\n",
    "qiita_mf.head(3)\n"
   ]
  },
  {
   "cell_type": "code",
   "execution_count": 233,
   "metadata": {},
   "outputs": [
    {
     "data": {
      "text/html": [
       "<div>\n",
       "<style scoped>\n",
       "    .dataframe tbody tr th:only-of-type {\n",
       "        vertical-align: middle;\n",
       "    }\n",
       "\n",
       "    .dataframe tbody tr th {\n",
       "        vertical-align: top;\n",
       "    }\n",
       "\n",
       "    .dataframe thead th {\n",
       "        text-align: right;\n",
       "    }\n",
       "</style>\n",
       "<table border=\"1\" class=\"dataframe\">\n",
       "  <thead>\n",
       "    <tr style=\"text-align: right;\">\n",
       "      <th></th>\n",
       "      <th>qiita_study</th>\n",
       "      <th>prep_name</th>\n",
       "      <th>run_name</th>\n",
       "      <th>100nt_deblur</th>\n",
       "      <th>sequencing_id</th>\n",
       "    </tr>\n",
       "    <tr>\n",
       "      <th>#SampleID</th>\n",
       "      <th></th>\n",
       "      <th></th>\n",
       "      <th></th>\n",
       "      <th></th>\n",
       "      <th></th>\n",
       "    </tr>\n",
       "  </thead>\n",
       "  <tbody>\n",
       "    <tr>\n",
       "      <th>10894.HR4234</th>\n",
       "      <td>10894</td>\n",
       "      <td>3908</td>\n",
       "      <td>Baby_2_1-6</td>\n",
       "      <td>58678</td>\n",
       "      <td>lane_1_171002_D00611_0535_BHY5LYBCXY_Knight_Gr...</td>\n",
       "    </tr>\n",
       "    <tr>\n",
       "      <th>10894.HR5600</th>\n",
       "      <td>10894</td>\n",
       "      <td>3908</td>\n",
       "      <td>Baby_2_1-6</td>\n",
       "      <td>58678</td>\n",
       "      <td>lane_1_171002_D00611_0535_BHY5LYBCXY_Knight_Gr...</td>\n",
       "    </tr>\n",
       "    <tr>\n",
       "      <th>10894.HR4183</th>\n",
       "      <td>10894</td>\n",
       "      <td>3908</td>\n",
       "      <td>Baby_2_1-6</td>\n",
       "      <td>58678</td>\n",
       "      <td>lane_1_171002_D00611_0535_BHY5LYBCXY_Knight_Gr...</td>\n",
       "    </tr>\n",
       "  </tbody>\n",
       "</table>\n",
       "</div>"
      ],
      "text/plain": [
       "              qiita_study  prep_name    run_name  100nt_deblur  \\\n",
       "#SampleID                                                        \n",
       "10894.HR4234        10894       3908  Baby_2_1-6         58678   \n",
       "10894.HR5600        10894       3908  Baby_2_1-6         58678   \n",
       "10894.HR4183        10894       3908  Baby_2_1-6         58678   \n",
       "\n",
       "                                                  sequencing_id  \n",
       "#SampleID                                                        \n",
       "10894.HR4234  lane_1_171002_D00611_0535_BHY5LYBCXY_Knight_Gr...  \n",
       "10894.HR5600  lane_1_171002_D00611_0535_BHY5LYBCXY_Knight_Gr...  \n",
       "10894.HR4183  lane_1_171002_D00611_0535_BHY5LYBCXY_Knight_Gr...  "
      ]
     },
     "execution_count": 233,
     "metadata": {},
     "output_type": "execute_result"
    }
   ],
   "source": [
    "# import the table ID's and import to Q2\n",
    "mf = []\n",
    "tbls = glob.glob('../data/qiita-tables-processing/biom-table-by-prep/*.biom')\n",
    "for tbl in tbls:\n",
    "    # import table\n",
    "    tblid = tbl.split('/')[-1][:-5]\n",
    "    tb = load_table(tbl)\n",
    "    # meta-data subset\n",
    "    mf_tmp = qiita_mf[qiita_mf['100nt_deblur'].isin([tblid])].copy()\n",
    "    mf_tmp = pd.concat([mf_tmp for id_ in tb.ids()])\n",
    "    mf_tmp.index = tb.ids()\n",
    "    mf.append(mf_tmp)\n",
    "    # import table to qiime2 and write\n",
    "    q2tb = q2.Artifact.import_data('FeatureTable[Frequency]', tb)\n",
    "    q2tb.save(os.path.join('../data/qiita-tables-processing/q2-tables', tblid))\n",
    "# final metadata merged\n",
    "mf = pd.concat(mf)\n",
    "mf.index.name = '#SampleID'\n",
    "q2.Metadata(mf).save('../data/qiita-tables-processing/qiita-mapped-metadata.qza')\n",
    "mf.to_csv('../data/qiita-tables-processing/qiita-mapped-metadata.tsv', sep='\\t')\n",
    "mf.head(3)\n",
    "    "
   ]
  },
  {
   "cell_type": "code",
   "execution_count": 43,
   "metadata": {},
   "outputs": [
    {
     "name": "stdout",
     "output_type": "stream",
     "text": [
      "/Users/cmartino/miniconda3/envs/qiime2-2019.7/lib/python3.6/site-packages/tensorflow/python/framework/dtypes.py:516: FutureWarning: Passing (type, 1) or '1type' as a synonym of type is deprecated; in a future version of numpy, it will be understood as (type, (1,)) / '(1,)type'.\n",
      "  _np_qint8 = np.dtype([(\"qint8\", np.int8, 1)])\n",
      "/Users/cmartino/miniconda3/envs/qiime2-2019.7/lib/python3.6/site-packages/tensorflow/python/framework/dtypes.py:517: FutureWarning: Passing (type, 1) or '1type' as a synonym of type is deprecated; in a future version of numpy, it will be understood as (type, (1,)) / '(1,)type'.\n",
      "  _np_quint8 = np.dtype([(\"quint8\", np.uint8, 1)])\n",
      "/Users/cmartino/miniconda3/envs/qiime2-2019.7/lib/python3.6/site-packages/tensorflow/python/framework/dtypes.py:518: FutureWarning: Passing (type, 1) or '1type' as a synonym of type is deprecated; in a future version of numpy, it will be understood as (type, (1,)) / '(1,)type'.\n",
      "  _np_qint16 = np.dtype([(\"qint16\", np.int16, 1)])\n",
      "/Users/cmartino/miniconda3/envs/qiime2-2019.7/lib/python3.6/site-packages/tensorflow/python/framework/dtypes.py:519: FutureWarning: Passing (type, 1) or '1type' as a synonym of type is deprecated; in a future version of numpy, it will be understood as (type, (1,)) / '(1,)type'.\n",
      "  _np_quint16 = np.dtype([(\"quint16\", np.uint16, 1)])\n",
      "/Users/cmartino/miniconda3/envs/qiime2-2019.7/lib/python3.6/site-packages/tensorflow/python/framework/dtypes.py:520: FutureWarning: Passing (type, 1) or '1type' as a synonym of type is deprecated; in a future version of numpy, it will be understood as (type, (1,)) / '(1,)type'.\n",
      "  _np_qint32 = np.dtype([(\"qint32\", np.int32, 1)])\n",
      "/Users/cmartino/miniconda3/envs/qiime2-2019.7/lib/python3.6/site-packages/tensorflow/python/framework/dtypes.py:525: FutureWarning: Passing (type, 1) or '1type' as a synonym of type is deprecated; in a future version of numpy, it will be understood as (type, (1,)) / '(1,)type'.\n",
      "  np_resource = np.dtype([(\"resource\", np.ubyte, 1)])\n",
      "/Users/cmartino/miniconda3/envs/qiime2-2019.7/lib/python3.6/site-packages/tensorboard/compat/tensorflow_stub/dtypes.py:541: FutureWarning: Passing (type, 1) or '1type' as a synonym of type is deprecated; in a future version of numpy, it will be understood as (type, (1,)) / '(1,)type'.\n",
      "  _np_qint8 = np.dtype([(\"qint8\", np.int8, 1)])\n",
      "/Users/cmartino/miniconda3/envs/qiime2-2019.7/lib/python3.6/site-packages/tensorboard/compat/tensorflow_stub/dtypes.py:542: FutureWarning: Passing (type, 1) or '1type' as a synonym of type is deprecated; in a future version of numpy, it will be understood as (type, (1,)) / '(1,)type'.\n",
      "  _np_quint8 = np.dtype([(\"quint8\", np.uint8, 1)])\n",
      "/Users/cmartino/miniconda3/envs/qiime2-2019.7/lib/python3.6/site-packages/tensorboard/compat/tensorflow_stub/dtypes.py:543: FutureWarning: Passing (type, 1) or '1type' as a synonym of type is deprecated; in a future version of numpy, it will be understood as (type, (1,)) / '(1,)type'.\n",
      "  _np_qint16 = np.dtype([(\"qint16\", np.int16, 1)])\n",
      "/Users/cmartino/miniconda3/envs/qiime2-2019.7/lib/python3.6/site-packages/tensorboard/compat/tensorflow_stub/dtypes.py:544: FutureWarning: Passing (type, 1) or '1type' as a synonym of type is deprecated; in a future version of numpy, it will be understood as (type, (1,)) / '(1,)type'.\n",
      "  _np_quint16 = np.dtype([(\"quint16\", np.uint16, 1)])\n",
      "/Users/cmartino/miniconda3/envs/qiime2-2019.7/lib/python3.6/site-packages/tensorboard/compat/tensorflow_stub/dtypes.py:545: FutureWarning: Passing (type, 1) or '1type' as a synonym of type is deprecated; in a future version of numpy, it will be understood as (type, (1,)) / '(1,)type'.\n",
      "  _np_qint32 = np.dtype([(\"qint32\", np.int32, 1)])\n",
      "/Users/cmartino/miniconda3/envs/qiime2-2019.7/lib/python3.6/site-packages/tensorboard/compat/tensorflow_stub/dtypes.py:550: FutureWarning: Passing (type, 1) or '1type' as a synonym of type is deprecated; in a future version of numpy, it will be understood as (type, (1,)) / '(1,)type'.\n",
      "  np_resource = np.dtype([(\"resource\", np.ubyte, 1)])\n",
      "\u001b[32mSaved FeatureTable[Frequency] to: ../data/qiita-tables-processing/merged-table.qza\u001b[0m\n"
     ]
    }
   ],
   "source": [
    "# merge all the tables into one\n",
    "!qiime feature-table merge\\\n",
    "    --i-tables ../data/qiita-tables-processing/q2-tables/*.qza\\\n",
    "    --p-overlap-method 'sum'\\\n",
    "    --o-merged-table ../data/qiita-tables-processing/merged-table.qza\n"
   ]
  },
  {
   "cell_type": "code",
   "execution_count": 277,
   "metadata": {},
   "outputs": [],
   "source": [
    "# build the set of all rep-seqs\n",
    "seqs_ = q2.Artifact.load('../data/qiita-tables-processing/merged-table.qza').view(Table).ids('observation')\n",
    "seqs_ = '\\n'.join(['>'+i+'\\n'+i for i in seqs_])\n",
    "f = open(\"../data/qiita-tables-processing/rep-seqs.fa\", \"w\")\n",
    "f.write(seqs_)\n",
    "f.close()\n"
   ]
  },
  {
   "cell_type": "code",
   "execution_count": 278,
   "metadata": {},
   "outputs": [
    {
     "name": "stdout",
     "output_type": "stream",
     "text": [
      "/Users/cmartino/miniconda3/envs/qiime2-2019.7/lib/python3.6/site-packages/tensorflow/python/framework/dtypes.py:516: FutureWarning: Passing (type, 1) or '1type' as a synonym of type is deprecated; in a future version of numpy, it will be understood as (type, (1,)) / '(1,)type'.\n",
      "  _np_qint8 = np.dtype([(\"qint8\", np.int8, 1)])\n",
      "/Users/cmartino/miniconda3/envs/qiime2-2019.7/lib/python3.6/site-packages/tensorflow/python/framework/dtypes.py:517: FutureWarning: Passing (type, 1) or '1type' as a synonym of type is deprecated; in a future version of numpy, it will be understood as (type, (1,)) / '(1,)type'.\n",
      "  _np_quint8 = np.dtype([(\"quint8\", np.uint8, 1)])\n",
      "/Users/cmartino/miniconda3/envs/qiime2-2019.7/lib/python3.6/site-packages/tensorflow/python/framework/dtypes.py:518: FutureWarning: Passing (type, 1) or '1type' as a synonym of type is deprecated; in a future version of numpy, it will be understood as (type, (1,)) / '(1,)type'.\n",
      "  _np_qint16 = np.dtype([(\"qint16\", np.int16, 1)])\n",
      "/Users/cmartino/miniconda3/envs/qiime2-2019.7/lib/python3.6/site-packages/tensorflow/python/framework/dtypes.py:519: FutureWarning: Passing (type, 1) or '1type' as a synonym of type is deprecated; in a future version of numpy, it will be understood as (type, (1,)) / '(1,)type'.\n",
      "  _np_quint16 = np.dtype([(\"quint16\", np.uint16, 1)])\n",
      "/Users/cmartino/miniconda3/envs/qiime2-2019.7/lib/python3.6/site-packages/tensorflow/python/framework/dtypes.py:520: FutureWarning: Passing (type, 1) or '1type' as a synonym of type is deprecated; in a future version of numpy, it will be understood as (type, (1,)) / '(1,)type'.\n",
      "  _np_qint32 = np.dtype([(\"qint32\", np.int32, 1)])\n",
      "/Users/cmartino/miniconda3/envs/qiime2-2019.7/lib/python3.6/site-packages/tensorflow/python/framework/dtypes.py:525: FutureWarning: Passing (type, 1) or '1type' as a synonym of type is deprecated; in a future version of numpy, it will be understood as (type, (1,)) / '(1,)type'.\n",
      "  np_resource = np.dtype([(\"resource\", np.ubyte, 1)])\n",
      "/Users/cmartino/miniconda3/envs/qiime2-2019.7/lib/python3.6/site-packages/tensorboard/compat/tensorflow_stub/dtypes.py:541: FutureWarning: Passing (type, 1) or '1type' as a synonym of type is deprecated; in a future version of numpy, it will be understood as (type, (1,)) / '(1,)type'.\n",
      "  _np_qint8 = np.dtype([(\"qint8\", np.int8, 1)])\n",
      "/Users/cmartino/miniconda3/envs/qiime2-2019.7/lib/python3.6/site-packages/tensorboard/compat/tensorflow_stub/dtypes.py:542: FutureWarning: Passing (type, 1) or '1type' as a synonym of type is deprecated; in a future version of numpy, it will be understood as (type, (1,)) / '(1,)type'.\n",
      "  _np_quint8 = np.dtype([(\"quint8\", np.uint8, 1)])\n",
      "/Users/cmartino/miniconda3/envs/qiime2-2019.7/lib/python3.6/site-packages/tensorboard/compat/tensorflow_stub/dtypes.py:543: FutureWarning: Passing (type, 1) or '1type' as a synonym of type is deprecated; in a future version of numpy, it will be understood as (type, (1,)) / '(1,)type'.\n",
      "  _np_qint16 = np.dtype([(\"qint16\", np.int16, 1)])\n",
      "/Users/cmartino/miniconda3/envs/qiime2-2019.7/lib/python3.6/site-packages/tensorboard/compat/tensorflow_stub/dtypes.py:544: FutureWarning: Passing (type, 1) or '1type' as a synonym of type is deprecated; in a future version of numpy, it will be understood as (type, (1,)) / '(1,)type'.\n",
      "  _np_quint16 = np.dtype([(\"quint16\", np.uint16, 1)])\n",
      "/Users/cmartino/miniconda3/envs/qiime2-2019.7/lib/python3.6/site-packages/tensorboard/compat/tensorflow_stub/dtypes.py:545: FutureWarning: Passing (type, 1) or '1type' as a synonym of type is deprecated; in a future version of numpy, it will be understood as (type, (1,)) / '(1,)type'.\n",
      "  _np_qint32 = np.dtype([(\"qint32\", np.int32, 1)])\n",
      "/Users/cmartino/miniconda3/envs/qiime2-2019.7/lib/python3.6/site-packages/tensorboard/compat/tensorflow_stub/dtypes.py:550: FutureWarning: Passing (type, 1) or '1type' as a synonym of type is deprecated; in a future version of numpy, it will be understood as (type, (1,)) / '(1,)type'.\n",
      "  np_resource = np.dtype([(\"resource\", np.ubyte, 1)])\n",
      "\u001b[32mImported ../data/qiita-tables-processing/rep-seqs.fa as DNASequencesDirectoryFormat to ../data/qiita-tables-processing/rep-seqs.qza\u001b[0m\n"
     ]
    }
   ],
   "source": [
    "# import the rep-seqs\n",
    "!qiime tools import \\\n",
    "    --input-path ../data/qiita-tables-processing/rep-seqs.fa\\\n",
    "    --output-path ../data/qiita-tables-processing/rep-seqs.qza\\\n",
    "    --type 'FeatureData[Sequence]'\n"
   ]
  },
  {
   "cell_type": "code",
   "execution_count": 280,
   "metadata": {},
   "outputs": [],
   "source": [
    "# run taxonomic classification (run on cluster - big compute step)\n",
    "!qiime feature-classifier classify-sklearn \\\n",
    "  --i-classifier ../data/qiita-tables-processing/gg-13-8-99-515-806-nb-classifier.qza \\\n",
    "  --i-reads ../data/qiita-tables-processing/rep-seqs.qza \\\n",
    "  --o-classification ../data/qiita-tables-processing/taxonomy.qza\n"
   ]
  },
  {
   "cell_type": "code",
   "execution_count": 48,
   "metadata": {},
   "outputs": [],
   "source": [
    "# generate sepp-insertion tree (run on cluster - big compute step)\n",
    "!qiime fragment-insertion sepp\\\n",
    "    --i-representative-sequences ../data/qiita-tables-processing/rep-seqs.qza\\\n",
    "    --output-dir ../data/qiita-tables-processing/sepp-tree\\\n"
   ]
  },
  {
   "cell_type": "code",
   "execution_count": 363,
   "metadata": {},
   "outputs": [
    {
     "name": "stdout",
     "output_type": "stream",
     "text": [
      "(189385, 12945)\n",
      "(178142, 12319)\n"
     ]
    },
    {
     "data": {
      "text/plain": [
       "'../data/processed-data/tree.qza'"
      ]
     },
     "execution_count": 363,
     "metadata": {},
     "output_type": "execute_result"
    }
   ],
   "source": [
    "# table to filter\n",
    "q2tb = q2.Artifact.load('../data/qiita-tables-processing/merged-table.qza').view(Table)\n",
    "print(q2tb.shape)\n",
    "# metadata (merged from MG on 01/21/2020 and ECAM metadata)\n",
    "mf = pd.read_csv('../data/qiita-tables-processing/metadata.tsv',\n",
    "                 sep='\\t', index_col=0)\n",
    "mf.index = [ind.replace('11648','10249') for ind in mf.index]\n",
    "# filter table to match metadata\n",
    "id_keep = sorted(set(mf.index) & set(q2tb.ids()))\n",
    "q2tb = q2tb.filter(id_keep)\n",
    "# ensure no zero sums\n",
    "q2tb = q2tb.filter(q2tb.ids()[q2tb.sum('sample') > 0]) # samples\n",
    "filt_ = q2tb.ids('observation')[q2tb.sum('observation') > 0] # features\n",
    "q2tb = q2tb.filter(filt_, axis='observation')\n",
    "# reindex metadata and add qiita prep map\n",
    "mf = mf.reindex(q2tb.ids())\n",
    "prepmf = pd.read_csv('../data/qiita-tables-processing/qiita-mapped-metadata.tsv',\n",
    "                     sep='\\t', index_col=0)\n",
    "prepmf = prepmf.reindex(q2tb.ids())\n",
    "mf = pd.concat([prepmf, mf],\n",
    "               sort=True, axis=1)\n",
    "mf.index.name = \"#SampleID\"\n",
    "mf = mf[~mf.manuscript_use.isin(['No-LaneRunError'])]\n",
    "# import the tree (get inserted seqs)\n",
    "tree = q2.Artifact.load('../data/qiita-tables-processing/sepp-tree/tree.qza').view(TreeNode)\n",
    "# filter out chloroplast/mitochondria hits\n",
    "taxonomy = q2.Artifact.load('../data/qiita-tables-processing/taxonomy.qza').view(pd.DataFrame)\n",
    "drop_ = set([t_ for t_ in taxonomy.Taxon if 'chloroplast' in t_.lower()\\\n",
    "                                         or 'mitochondria' in t_.lower()])\n",
    "taxonomy = taxonomy[~taxonomy.Taxon.isin(drop_)]\n",
    "# check shared ids for tree, table, and taxonomy\n",
    "keep_ = list((set([node.name for node in tree.tips()])\\\n",
    "              & set(taxonomy.index))\\\n",
    "             & set(q2tb.ids('observation')))\n",
    "#keep_ = list((set(taxonomy.index))\\\n",
    "#             & set(q2tb.ids('observation')))\n",
    "# filter table \n",
    "q2tb = q2tb.filter(keep_, axis='observation')\n",
    "# ensure no zero sums\n",
    "q2tb = q2tb.filter(q2tb.ids()[q2tb.sum('sample') > 0]) # samples\n",
    "filt_ = q2tb.ids('observation')[q2tb.sum('observation') > 0] # features\n",
    "q2tb = q2tb.filter(filt_, axis='observation')\n",
    "# match and write metadata\n",
    "mf = mf.reindex(q2tb.ids())\n",
    "q2.Metadata(mf).save('../data/processed-data/metadata.qza')\n",
    "mf.to_csv('../data/processed-data/metadata.tsv', sep='\\t')\n",
    "# write table\n",
    "print(q2tb.shape)\n",
    "with biom_open('../data/processed-data/table.biom', 'w') as f:\n",
    "    q2tb.to_hdf5(f, \"example\")\n",
    "q2.Artifact.import_data('FeatureTable[Frequency]', q2tb).save('../data/processed-data/table.qza')\n",
    "# write taxonomy\n",
    "q2.Artifact.import_data('FeatureData[Taxonomy]', taxonomy).save('../data/processed-data/taxonomy.qza')\n",
    "# write tree\n",
    "q2.Artifact.import_data('Phylogeny[Rooted]', tree).save('../data/processed-data/tree.qza')"
   ]
  },
  {
   "cell_type": "code",
   "execution_count": 364,
   "metadata": {},
   "outputs": [
    {
     "data": {
      "text/plain": [
       "10894.0    10090\n",
       "11648.0     1044\n",
       "1718.0       505\n",
       "Name: qiita_study, dtype: int64"
      ]
     },
     "execution_count": 364,
     "metadata": {},
     "output_type": "execute_result"
    }
   ],
   "source": [
    "mf.qiita_study.value_counts()\n"
   ]
  }
 ],
 "metadata": {
  "kernelspec": {
   "display_name": "Python 3",
   "language": "python",
   "name": "python3"
  },
  "language_info": {
   "codemirror_mode": {
    "name": "ipython",
    "version": 3
   },
   "file_extension": ".py",
   "mimetype": "text/x-python",
   "name": "python",
   "nbconvert_exporter": "python",
   "pygments_lexer": "ipython3",
   "version": "3.7.9"
  }
 },
 "nbformat": 4,
 "nbformat_minor": 2
}
