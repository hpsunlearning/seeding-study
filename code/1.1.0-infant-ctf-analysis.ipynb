{
 "cells": [
  {
   "cell_type": "code",
   "execution_count": 1,
   "metadata": {},
   "outputs": [],
   "source": [
    "import os\n",
    "import pandas as pd\n",
    "import qiime2 as q2\n",
    "import numpy as np\n",
    "from skbio import TreeNode\n",
    "from biom import load_table, Table\n",
    "from qiime2.plugins.gemelli.actions import ctf\n",
    "from qiime2.plugins.deicode.actions import rpca\n",
    "from qiime2.plugins.longitudinal.actions import volatility\n"
   ]
  },
  {
   "cell_type": "code",
   "execution_count": 2,
   "metadata": {},
   "outputs": [
    {
     "name": "stdout",
     "output_type": "stream",
     "text": [
      "143\n",
      "(223, 48)\n",
      "67\n",
      "(402, 48)\n",
      "75\n",
      "(190, 48)\n",
      "43\n",
      "(273, 48)\n",
      "69\n",
      "(173, 48)\n",
      "40\n",
      "(256, 48)\n"
     ]
    }
   ],
   "source": [
    "# time splits\n",
    "splits_ = {'0-2':[0.0, 1.0, 2.0],\n",
    "           '7-360':[7.0, 14.0, 30.0,\n",
    "                    60, 120, 180, 360]}\n",
    "\n",
    "ctf_splits = {}\n",
    "\n",
    "for body_site in ['Baby-Feces',\n",
    "                  'Baby-Mouth',\n",
    "                  'Baby-Forearm']:\n",
    "\n",
    "    for t_range_, t_use in splits_.items():\n",
    "\n",
    "        # import metadata\n",
    "        mf_tmp = q2.Metadata.load('../data/split-data/%s/metadata.qza' % body_site).to_dataframe()\n",
    "\n",
    "        ### early daily samples ## \n",
    "        mf_tmp['date_sampling_category_days_continuous'] = mf_tmp.date_sampling_category_days_continuous.astype(float)\n",
    "        mf_tmp = mf_tmp[mf_tmp.date_sampling_category_days_continuous.isin(t_use)]\n",
    "\n",
    "        # build map of total subjects\n",
    "        sdtypedf_ = mf_tmp[~mf_tmp.country.isin(['PuertoRico'])].dropna(subset=['country'])\n",
    "        subsject_time_ = pd.concat({s_:pd.DataFrame(set(sdf_.date_sampling_category_days_continuous))\n",
    "                                 for s_, sdf_ in sdtypedf_.groupby('subjectid_unique')})\n",
    "        subsject_time_ = subsject_time_.reset_index().drop('level_1', axis=1)\n",
    "        subsject_time_.columns = ['subject','month']\n",
    "        subsject_time_['exist'] = 1\n",
    "        # stack into map\n",
    "        subsject_time_ = subsject_time_.pivot(index='subject',\n",
    "                                          columns='month',\n",
    "                                          values='exist').fillna(0)\n",
    "        use_subjects = subsject_time_.index[subsject_time_.sum(1) >= len(t_use) - 2]\n",
    "        mf_tmp = mf_tmp[mf_tmp.subjectid_unique.isin(use_subjects)]\n",
    "        print(len(use_subjects))\n",
    "        print(mf_tmp.shape)\n",
    "\n",
    "        # subset fecal\n",
    "        bt_tmp = q2.Artifact.load('../data/split-data/%s/table.qza' % body_site).view(Table).copy()\n",
    "        tree = q2.Artifact.load('../data/processed-data/tree.qza').view(TreeNode)\n",
    "\n",
    "        # pre-filter tables\n",
    "        bt_tmp = bt_tmp.filter(bt_tmp.ids()[bt_tmp.sum('sample') > 0])\n",
    "        freq_filts = bt_tmp.matrix_data.toarray().sum(axis=1) \\\n",
    "                      > 10 # 10\n",
    "        bt_tmp = bt_tmp.filter(bt_tmp.ids('observation')[freq_filts], axis='observation')\n",
    "\n",
    "        # subset shared \n",
    "        shared_ = set(bt_tmp.ids()) & set(mf_tmp.index)\n",
    "        bt_tmp = bt_tmp.filter(shared_)\n",
    "        mf_tmp = mf_tmp.reindex(shared_)\n",
    "\n",
    "        # ensure tree matched\n",
    "        seqs_ = [node.name for node in tree.tips()]\n",
    "        shared_ = list(set(seqs_) & set(bt_tmp.ids('observation')))\n",
    "        bt_tmp = bt_tmp.filter(shared_ , axis='observation')\n",
    "        # save the splits\n",
    "        ctf_splits[(body_site, t_range_)] = [bt_tmp, mf_tmp]\n"
   ]
  },
  {
   "cell_type": "code",
   "execution_count": 3,
   "metadata": {},
   "outputs": [
    {
     "name": "stdout",
     "output_type": "stream",
     "text": [
      "('Baby-Feces', '0-2')\n"
     ]
    },
    {
     "name": "stderr",
     "output_type": "stream",
     "text": [
      "/Users/cmartino/miniconda3/envs/qiime2-2019.10-FEAST/lib/python3.6/site-packages/gemelli/preprocessing.py:356: RuntimeWarning: Subject(s) () contains multiple samples. Multiple subject counts will be meaned across samples by subject.\n",
      "  RuntimeWarning)\n"
     ]
    },
    {
     "name": "stdout",
     "output_type": "stream",
     "text": [
      "('Baby-Feces', '7-360')\n"
     ]
    },
    {
     "name": "stderr",
     "output_type": "stream",
     "text": [
      "/Users/cmartino/miniconda3/envs/qiime2-2019.10-FEAST/lib/python3.6/site-packages/gemelli/preprocessing.py:356: RuntimeWarning: Subject(s) () contains multiple samples. Multiple subject counts will be meaned across samples by subject.\n",
      "  RuntimeWarning)\n"
     ]
    },
    {
     "name": "stdout",
     "output_type": "stream",
     "text": [
      "('Baby-Mouth', '0-2')\n"
     ]
    },
    {
     "name": "stderr",
     "output_type": "stream",
     "text": [
      "/Users/cmartino/miniconda3/envs/qiime2-2019.10-FEAST/lib/python3.6/site-packages/gemelli/preprocessing.py:356: RuntimeWarning: Subject(s) () contains multiple samples. Multiple subject counts will be meaned across samples by subject.\n",
      "  RuntimeWarning)\n"
     ]
    },
    {
     "name": "stdout",
     "output_type": "stream",
     "text": [
      "('Baby-Mouth', '7-360')\n"
     ]
    },
    {
     "name": "stderr",
     "output_type": "stream",
     "text": [
      "/Users/cmartino/miniconda3/envs/qiime2-2019.10-FEAST/lib/python3.6/site-packages/gemelli/preprocessing.py:356: RuntimeWarning: Subject(s) () contains multiple samples. Multiple subject counts will be meaned across samples by subject.\n",
      "  RuntimeWarning)\n"
     ]
    },
    {
     "name": "stdout",
     "output_type": "stream",
     "text": [
      "('Baby-Forearm', '0-2')\n"
     ]
    },
    {
     "name": "stderr",
     "output_type": "stream",
     "text": [
      "/Users/cmartino/miniconda3/envs/qiime2-2019.10-FEAST/lib/python3.6/site-packages/gemelli/preprocessing.py:356: RuntimeWarning: Subject(s) () contains multiple samples. Multiple subject counts will be meaned across samples by subject.\n",
      "  RuntimeWarning)\n"
     ]
    },
    {
     "name": "stdout",
     "output_type": "stream",
     "text": [
      "('Baby-Forearm', '7-360')\n"
     ]
    },
    {
     "name": "stderr",
     "output_type": "stream",
     "text": [
      "/Users/cmartino/miniconda3/envs/qiime2-2019.10-FEAST/lib/python3.6/site-packages/gemelli/preprocessing.py:356: RuntimeWarning: Subject(s) () contains multiple samples. Multiple subject counts will be meaned across samples by subject.\n",
      "  RuntimeWarning)\n"
     ]
    }
   ],
   "source": [
    "for (body_site, t_range_), (bt_tmp, mf_tmp) in ctf_splits.items():\n",
    "\n",
    "    # import into qiime2\n",
    "    print((body_site, t_range_))\n",
    "    q2bt_tmp =  q2.Artifact.import_data('FeatureTable[Frequency]', bt_tmp)\n",
    "    q2mf_tmp = q2.Metadata(mf_tmp)\n",
    "    # run ctf\n",
    "    fecal_res = ctf(q2bt_tmp,\n",
    "                    q2mf_tmp,\n",
    "                    'subjectid_unique',\n",
    "                    'date_sampling_category_days_continuous')\n",
    "    # save split\n",
    "    directory = '../data/ctf-results/%s-%s' % (body_site, t_range_)\n",
    "    if not os.path.exists(directory):\n",
    "        os.mkdir(directory)\n",
    "    q2bt_tmp.save('%s/%s' % (directory, 'table.qza'))\n",
    "    q2mf_tmp.save('%s/%s' % (directory, 'metadata.qza'))\n",
    "    for name_, art_ in fecal_res.__dict__.items():\n",
    "        if name_ != '_fields':\n",
    "            art_.save('%s/%s' % (directory, name_))\n"
   ]
  }
 ],
 "metadata": {
  "kernelspec": {
   "display_name": "Python 3",
   "language": "python",
   "name": "python3"
  },
  "language_info": {
   "codemirror_mode": {
    "name": "ipython",
    "version": 3
   },
   "file_extension": ".py",
   "mimetype": "text/x-python",
   "name": "python",
   "nbconvert_exporter": "python",
   "pygments_lexer": "ipython3",
   "version": "3.7.9"
  }
 },
 "nbformat": 4,
 "nbformat_minor": 2
}
