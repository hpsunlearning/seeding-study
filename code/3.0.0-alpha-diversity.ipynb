{
 "cells": [
  {
   "cell_type": "code",
   "execution_count": 1,
   "metadata": {},
   "outputs": [],
   "source": [
    "import os\n",
    "import pandas as pd\n",
    "import qiime2 as q2\n",
    "from biom import Table, load_table\n",
    "from qiime2.plugins.diversity.methods import alpha\n",
    "from qiime2.plugins.feature_table.methods import rarefy\n",
    "from qiime2.plugins.diversity.methods import alpha_phylogenetic_alt\n"
   ]
  },
  {
   "cell_type": "code",
   "execution_count": 7,
   "metadata": {
    "scrolled": true
   },
   "outputs": [
    {
     "name": "stdout",
     "output_type": "stream",
     "text": [
      "Starting: fecal\n",
      "Starting: oral\n",
      "Starting: skin\n"
     ]
    }
   ],
   "source": [
    "# tables for import\n",
    "tables_ = {'fecal':'../data/split-data/Baby-Feces',\n",
    "            'oral':'../data/split-data/Baby-Mouth',\n",
    "            'skin':'../data/split-data/Baby-Forearm'}\n",
    "# tree for import\n",
    "tree = '../data/processed-data/tree.qza' \n",
    "tree = q2.Artifact.load(tree)\n",
    "# get each table and run alpha's\n",
    "for k_, path_ in tables_.items():\n",
    "    print('Starting: %s' % k_)\n",
    "    # get table(s)\n",
    "    mf_ = pd.read_csv(os.path.join(path_, 'metadata.tsv'),\n",
    "                      sep='\\t', index_col=0)\n",
    "    mf_.columns = [col.replace('old_','') for col in mf_.columns]\n",
    "\n",
    "    # load rare\n",
    "    table_rar = q2.Artifact.load(os.path.join(path_, 'rarefy-table.qza'))\n",
    "    # run alphas\n",
    "    shannon_alpha = alpha(table_rar, 'shannon').alpha_diversity\n",
    "    faiths_alpha = alpha_phylogenetic_alt(table_rar,\n",
    "                                          tree,\n",
    "                                          'faith_pd').alpha_diversity\n",
    "    # save qza\n",
    "    out_ = '../data/alpha-diversity/%s' % (k_)\n",
    "    shannon_alpha.save(os.path.join(out_, 'shannon-alpha.qza'))\n",
    "    faiths_alpha.save(os.path.join(out_, 'faiths-alpha.qza'))\n",
    "    # save tsv + metadata for other purposes\n",
    "    shannon_alpha = shannon_alpha.view(q2.Metadata).to_dataframe()\n",
    "    faiths_alpha = faiths_alpha.view(q2.Metadata).to_dataframe()\n",
    "    shannon_alpha = pd.concat([shannon_alpha,\n",
    "                               mf_.reindex(shannon_alpha.index)],\n",
    "                              axis=1)\n",
    "    faiths_alpha = pd.concat([faiths_alpha,\n",
    "                              mf_.reindex(faiths_alpha.index)],\n",
    "                             axis=1)\n",
    "    # write tsv\n",
    "    shannon_alpha.to_csv(os.path.join(out_, 'shannon-alpha.tsv'), sep='\\t')\n",
    "    faiths_alpha.to_csv(os.path.join(out_, 'faiths-alpha.tsv'), sep='\\t')\n"
   ]
  },
  {
   "cell_type": "code",
   "execution_count": null,
   "metadata": {},
   "outputs": [],
   "source": []
  }
 ],
 "metadata": {
  "kernelspec": {
   "display_name": "Python 3",
   "language": "python",
   "name": "python3"
  },
  "language_info": {
   "codemirror_mode": {
    "name": "ipython",
    "version": 3
   },
   "file_extension": ".py",
   "mimetype": "text/x-python",
   "name": "python",
   "nbconvert_exporter": "python",
   "pygments_lexer": "ipython3",
   "version": "3.6.10"
  },
  "varInspector": {
   "cols": {
    "lenName": 16,
    "lenType": 16,
    "lenVar": 40
   },
   "kernels_config": {
    "python": {
     "delete_cmd_postfix": "",
     "delete_cmd_prefix": "del ",
     "library": "var_list.py",
     "varRefreshCmd": "print(var_dic_list())"
    },
    "r": {
     "delete_cmd_postfix": ") ",
     "delete_cmd_prefix": "rm(",
     "library": "var_list.r",
     "varRefreshCmd": "cat(var_dic_list()) "
    }
   },
   "types_to_exclude": [
    "module",
    "function",
    "builtin_function_or_method",
    "instance",
    "_Feature"
   ],
   "window_display": true
  }
 },
 "nbformat": 4,
 "nbformat_minor": 2
}
